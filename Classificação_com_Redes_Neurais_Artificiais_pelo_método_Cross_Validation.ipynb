{
  "nbformat": 4,
  "nbformat_minor": 0,
  "metadata": {
    "colab": {
      "name": "Classificação com Redes Neurais Artificiais pelo método Cross Validation.ipynb",
      "provenance": [],
      "include_colab_link": true
    },
    "kernelspec": {
      "name": "python3",
      "display_name": "Python 3"
    },
    "language_info": {
      "name": "python"
    }
  },
  "cells": [
    {
      "cell_type": "markdown",
      "metadata": {
        "id": "view-in-github",
        "colab_type": "text"
      },
      "source": [
        "<a href=\"https://colab.research.google.com/github/enio-martinelli/Faculdade/blob/main/Classifica%C3%A7%C3%A3o_com_Redes_Neurais_Artificiais_pelo_m%C3%A9todo_Cross_Validation.ipynb\" target=\"_parent\"><img src=\"https://colab.research.google.com/assets/colab-badge.svg\" alt=\"Open In Colab\"/></a>"
      ]
    },
    {
      "cell_type": "markdown",
      "source": [
        "# **ALUNO:** Enio da Costa Martinelli  **RA:** 790891"
      ],
      "metadata": {
        "id": "GVqNt8X6gWpp"
      }
    },
    {
      "cell_type": "markdown",
      "source": [
        "#**Etapas 1 - 3**\n",
        "1. O conjunto de dados selecionado foi Wine Data Set, disponível no pacote `sklearn.datasets`.\n",
        "2. Etapa não necessária\n"
      ],
      "metadata": {
        "id": "NlBsA7nZd0Ul"
      }
    },
    {
      "cell_type": "code",
      "source": [
        "#3.\n",
        "from sklearn.datasets import load_wine\n",
        "\n",
        "wine = load_wine()"
      ],
      "metadata": {
        "id": "u2EOOkwhg1qo"
      },
      "execution_count": 164,
      "outputs": []
    },
    {
      "cell_type": "markdown",
      "source": [
        "#**Etapas 4 - 6**"
      ],
      "metadata": {
        "id": "q_BDsA2Jhlxg"
      }
    },
    {
      "cell_type": "code",
      "execution_count": 165,
      "metadata": {
        "id": "DVp4yCFtES-A"
      },
      "outputs": [],
      "source": [
        "#4.\n",
        "import numpy as np\n",
        "import pandas as pd\n",
        "\n",
        "bc = pd.DataFrame(wine.data, columns=wine.feature_names)\n",
        "bc['class'] = wine.target\n",
        "bc = bc.sample(frac=1).reset_index(drop=True)\n",
        "y = bc['class']   \n",
        "X = bc.drop('class', axis=1)  \n",
        "y = pd.DataFrame(y)\n"
      ]
    },
    {
      "cell_type": "markdown",
      "source": [
        "5. Etapa não necessária"
      ],
      "metadata": {
        "id": "t3PKLO3yh_NM"
      }
    },
    {
      "cell_type": "code",
      "source": [
        "#6.\n",
        "#função que, dado um conjunto de dados, separe esse conjunto em n folds(n subconjuntos).\n",
        "def create_fold(data, number_folds):\n",
        "    foldSize = int(len(data)/number_folds) #Determina o tamanho de cada fold\n",
        "    dataFold = []\n",
        "    resto = len(data)%number_folds #Determina quantos folds que terão 1 instância a mais,\n",
        "                                    #ja que number_folds pode não ser divisor do total de instâncais\n",
        "    cont = 0\n",
        "    pos = 0\n",
        "    for j in range(number_folds):\n",
        "        if cont<resto:\n",
        "            dataFold.append(data.iloc[pos:(pos+foldSize+1),:])\n",
        "            pos+= foldSize+1\n",
        "        else:\n",
        "            dataFold.append(data.iloc[pos:(pos+foldSize),:])\n",
        "            pos+=foldSize\n",
        "        cont+=1\n",
        "    return dataFold\n",
        "\n",
        "#Separando a matriz de atributos e o vetor de classes em 10 folds\n",
        "XFold = create_fold(X,10)\n",
        "yFold = create_fold(y,10)"
      ],
      "metadata": {
        "id": "bgxFzmj3EVxR"
      },
      "execution_count": 166,
      "outputs": []
    },
    {
      "cell_type": "markdown",
      "source": [
        "# Função para plotar a rede neural"
      ],
      "metadata": {
        "id": "0p-6b4pNY-k1"
      }
    },
    {
      "cell_type": "code",
      "source": [
        "# Fonte: https://stackoverflow.com/questions/29888233/how-to-visualize-a-neural-network\n",
        "\n",
        "from matplotlib import pyplot\n",
        "from math import cos, sin, atan\n",
        "\n",
        "\n",
        "class Neuron():\n",
        "    def __init__(self, x, y):\n",
        "        self.x = x\n",
        "        self.y = y\n",
        "\n",
        "    def draw(self, neuron_radius):\n",
        "        circle = pyplot.Circle((self.x, self.y), radius=neuron_radius, fill=False)\n",
        "        pyplot.gca().add_patch(circle)\n",
        "\n",
        "\n",
        "class Layer():\n",
        "    def __init__(self, network, number_of_neurons, number_of_neurons_in_widest_layer):\n",
        "        self.vertical_distance_between_layers = 600\n",
        "        self.horizontal_distance_between_neurons = 100\n",
        "        self.neuron_radius = 50\n",
        "        self.number_of_neurons_in_widest_layer = number_of_neurons_in_widest_layer\n",
        "        self.previous_layer = self.__get_previous_layer(network)\n",
        "        self.y = self.__calculate_layer_y_position()\n",
        "        self.neurons = self.__intialise_neurons(number_of_neurons)\n",
        "\n",
        "    def __intialise_neurons(self, number_of_neurons):\n",
        "        neurons = []\n",
        "        x = self.__calculate_left_margin_so_layer_is_centered(number_of_neurons)\n",
        "        for iteration in range(number_of_neurons):\n",
        "            neuron = Neuron(x, self.y)\n",
        "            neurons.append(neuron)\n",
        "            x += self.horizontal_distance_between_neurons\n",
        "        return neurons\n",
        "\n",
        "    def __calculate_left_margin_so_layer_is_centered(self, number_of_neurons):\n",
        "        return self.horizontal_distance_between_neurons * (self.number_of_neurons_in_widest_layer - number_of_neurons) / 2\n",
        "\n",
        "    def __calculate_layer_y_position(self):\n",
        "        if self.previous_layer:\n",
        "            return self.previous_layer.y + self.vertical_distance_between_layers\n",
        "        else:\n",
        "            return 0\n",
        "\n",
        "    def __get_previous_layer(self, network):\n",
        "        if len(network.layers) > 0:\n",
        "            return network.layers[-1]\n",
        "        else:\n",
        "            return None\n",
        "\n",
        "    def __line_between_two_neurons(self, neuron1, neuron2):\n",
        "        angle = atan((neuron2.x - neuron1.x) / float(neuron2.y - neuron1.y))\n",
        "        x_adjustment = self.neuron_radius * sin(angle)\n",
        "        y_adjustment = self.neuron_radius * cos(angle)\n",
        "        line = pyplot.Line2D((neuron1.x - x_adjustment, neuron2.x + x_adjustment), (neuron1.y - y_adjustment, neuron2.y + y_adjustment))\n",
        "        pyplot.gca().add_line(line)\n",
        "\n",
        "    def draw(self, layerType=0):\n",
        "        for neuron in self.neurons:\n",
        "            neuron.draw( self.neuron_radius )\n",
        "            if self.previous_layer:\n",
        "                for previous_layer_neuron in self.previous_layer.neurons:\n",
        "                    self.__line_between_two_neurons(neuron, previous_layer_neuron)\n",
        "        # write Text\n",
        "        x_text = self.number_of_neurons_in_widest_layer * self.horizontal_distance_between_neurons\n",
        "        if layerType == 0:\n",
        "            pyplot.text(x_text, self.y, 'Input Layer', fontsize = 12)\n",
        "        elif layerType == -1:\n",
        "            pyplot.text(x_text, self.y, 'Output Layer', fontsize = 12)\n",
        "        else:\n",
        "            pyplot.text(x_text, self.y, 'Hidden Layer '+str(layerType), fontsize = 12)\n",
        "\n",
        "class NeuralNetwork():\n",
        "    def __init__(self, number_of_neurons_in_widest_layer):\n",
        "        self.number_of_neurons_in_widest_layer = number_of_neurons_in_widest_layer\n",
        "        self.layers = []\n",
        "        self.layertype = 0\n",
        "\n",
        "    def add_layer(self, number_of_neurons ):\n",
        "        layer = Layer(self, number_of_neurons, self.number_of_neurons_in_widest_layer)\n",
        "        self.layers.append(layer)\n",
        "\n",
        "    def draw(self):\n",
        "        pyplot.figure()\n",
        "        for i in range( len(self.layers) ):\n",
        "            layer = self.layers[i]\n",
        "            if i == len(self.layers)-1:\n",
        "                i = -1\n",
        "            layer.draw( i )\n",
        "        pyplot.axis('scaled')\n",
        "        pyplot.axis('off')\n",
        "        pyplot.title( 'Neural Network architecture', fontsize=15 )\n",
        "        pyplot.show()\n",
        "\n",
        "class DrawNN():\n",
        "    def __init__( self, neural_network ):\n",
        "        self.neural_network = neural_network\n",
        "\n",
        "    def draw( self ):\n",
        "        widest_layer = max( self.neural_network )\n",
        "        network = NeuralNetwork( widest_layer )\n",
        "        for l in self.neural_network:\n",
        "            network.add_layer(l)\n",
        "        network.draw()"
      ],
      "metadata": {
        "id": "Q7-HxnM_ZOZ9"
      },
      "execution_count": 21,
      "outputs": []
    },
    {
      "cell_type": "markdown",
      "source": [
        "#**Etapas 7 - 10**"
      ],
      "metadata": {
        "id": "x1mBCFOnjsbm"
      }
    },
    {
      "cell_type": "code",
      "source": [
        "from sklearn.metrics import classification_report\n",
        "from sklearn.metrics import plot_confusion_matrix\n",
        "from matplotlib import pyplot as plt\n",
        "from sklearn.neural_network import MLPClassifier\n",
        "\n",
        "#Ignora alguns warnings\n",
        "import warnings \n",
        "warnings.filterwarnings('ignore')\n",
        "\n",
        "crs = [] #Vetor que vai armazenar todos valores de classification_report dos 10folds\n",
        "class_names = wine.target_names #Nome das classes do conjunto de dados\n",
        "title = \"Matriz de Confusão\" #Título da matriz de confusão\n",
        "mlps = [] #Vetor para armazenar o resultado do fit() de cada treino\n",
        "\n",
        "\n",
        "for i in range(len(XFold)): #7. Método de amostragem: 10-fold cross-validation\n",
        "    #Vetores para armazenar o conjunto de treino, de X(matriz de atributos) e y(vetor de classes)\n",
        "    X_train = pd.DataFrame(None)\n",
        "    y_train = pd.DataFrame(None) \n",
        "    for j in range(len(XFold)):\n",
        "      if i != j:\n",
        "          #Conjunto de treino (9 folds)\n",
        "          X_train = pd.concat([X_train, XFold[j]])\n",
        "          y_train = pd.concat([y_train, yFold[j]])\n",
        "    #Conjunto de testes (fold restante)\n",
        "    X_test = XFold[i]\n",
        "    y_test = yFold[i]\n",
        "\n",
        "    #8. Arquitetura da Rede Neural: Camada input(30 inputs), única camada escondida(22 neurônios), camada output(2 outputs)\n",
        "    mlp = MLPClassifier(hidden_layer_sizes=(110,),activation='logistic', solver='lbfgs', random_state=1, max_iter=2000, verbose=True)\n",
        "    mlps.append(mlp.fit(X_train, y_train))\n",
        "    \n",
        "    #10.\n",
        "    predicted = mlp.predict(X_test) #classificação dos dados de teste\n",
        "    #Matriz de confusão e medidas de precisão, revocação, medida F e acurácia para cada fold\n",
        "    disp = plot_confusion_matrix(mlp, X_test, y_test, display_labels=class_names, cmap=plt.cm.Blues)\n",
        "    disp.ax_.set_title(title)\n",
        "    print(f\"Avaliação do modelo gerado usando dados de teste do {i+1}º fold\")\n",
        "    plt.show()\n",
        "    print(\"Medidas de precisão, revocação, medida F e acurácia: \\n\")\n",
        "    print(f\"{classification_report(predicted, y_test, target_names=class_names)}\\n\")\n",
        "    #Transformações necessárias para poder acessar cada valor de classification_report, \n",
        "    #para cálculo de médias e desvio padrão\n",
        "    cr = classification_report(predicted, y_test, target_names=class_names, output_dict=True)\n",
        "    cr = pd.DataFrame(cr).T\n",
        "    #Ao mudar o tipo de dados de str para dictionary, o valor accuracy de support muda\n",
        "    cr.iloc[3,3] = cr.iloc[4,3] #aqui é feita a correção\n",
        "    crs.append(cr)"
      ],
      "metadata": {
        "colab": {
          "base_uri": "https://localhost:8080/",
          "height": 1000
        },
        "id": "-JwzyiODYQud",
        "outputId": "f1ac8172-f821-4928-df97-44340121e0f5"
      },
      "execution_count": 167,
      "outputs": [
        {
          "output_type": "stream",
          "name": "stdout",
          "text": [
            "Avaliação do modelo gerado usando dados de teste do 1º fold\n"
          ]
        },
        {
          "output_type": "display_data",
          "data": {
            "text/plain": [
              "<Figure size 432x288 with 2 Axes>"
            ],
            "image/png": "[encoded data removed]"
          },
          "metadata": {
            "needs_background": "light"
          }
        },
        {
          "output_type": "stream",
          "name": "stdout",
          "text": [
            "Medidas de precisão, revocação, medida F e acurácia: \n",
            "\n",
            "              precision    recall  f1-score   support\n",
            "\n",
            "     class_0       0.75      0.75      0.75         4\n",
            "     class_1       0.89      0.89      0.89         9\n",
            "     class_2       1.00      1.00      1.00         5\n",
            "\n",
            "    accuracy                           0.89        18\n",
            "   macro avg       0.88      0.88      0.88        18\n",
            "weighted avg       0.89      0.89      0.89        18\n",
            "\n",
            "\n",
            "Avaliação do modelo gerado usando dados de teste do 2º fold\n"
          ]
        },
        {
          "output_type": "display_data",
          "data": {
            "text/plain": [
              "<Figure size 432x288 with 2 Axes>"
            ],
            "image/png": "[encoded data removed]"
          },
          "metadata": {
            "needs_background": "light"
          }
        },
        {
          "output_type": "stream",
          "name": "stdout",
          "text": [
            "Medidas de precisão, revocação, medida F e acurácia: \n",
            "\n",
            "              precision    recall  f1-score   support\n",
            "\n",
            "     class_0       0.80      1.00      0.89         4\n",
            "     class_1       0.90      0.90      0.90        10\n",
            "     class_2       1.00      0.75      0.86         4\n",
            "\n",
            "    accuracy                           0.89        18\n",
            "   macro avg       0.90      0.88      0.88        18\n",
            "weighted avg       0.90      0.89      0.89        18\n",
            "\n",
            "\n",
            "Avaliação do modelo gerado usando dados de teste do 3º fold\n"
          ]
        },
        {
          "output_type": "display_data",
          "data": {
            "text/plain": [
              "<Figure size 432x288 with 2 Axes>"
            ],
            "image/png": "[encoded data removed]"
          },
          "metadata": {
            "needs_background": "light"
          }
        },
        {
          "output_type": "stream",
          "name": "stdout",
          "text": [
            "Medidas de precisão, revocação, medida F e acurácia: \n",
            "\n",
            "              precision    recall  f1-score   support\n",
            "\n",
            "     class_0       0.75      1.00      0.86         6\n",
            "     class_1       1.00      0.78      0.88         9\n",
            "     class_2       1.00      1.00      1.00         3\n",
            "\n",
            "    accuracy                           0.89        18\n",
            "   macro avg       0.92      0.93      0.91        18\n",
            "weighted avg       0.92      0.89      0.89        18\n",
            "\n",
            "\n",
            "Avaliação do modelo gerado usando dados de teste do 4º fold\n"
          ]
        },
        {
          "output_type": "display_data",
          "data": {
            "text/plain": [
              "<Figure size 432x288 with 2 Axes>"
            ],
            "image/png": "[encoded data removed]"
          },
          "metadata": {
            "needs_background": "light"
          }
        },
        {
          "output_type": "stream",
          "name": "stdout",
          "text": [
            "Medidas de precisão, revocação, medida F e acurácia: \n",
            "\n",
            "              precision    recall  f1-score   support\n",
            "\n",
            "     class_0       1.00      0.86      0.92         7\n",
            "     class_1       0.83      1.00      0.91         5\n",
            "     class_2       1.00      1.00      1.00         6\n",
            "\n",
            "    accuracy                           0.94        18\n",
            "   macro avg       0.94      0.95      0.94        18\n",
            "weighted avg       0.95      0.94      0.94        18\n",
            "\n",
            "\n",
            "Avaliação do modelo gerado usando dados de teste do 5º fold\n"
          ]
        },
        {
          "output_type": "display_data",
          "data": {
            "text/plain": [
              "<Figure size 432x288 with 2 Axes>"
            ],
            "image/png": "[encoded data removed]"
          },
          "metadata": {
            "needs_background": "light"
          }
        },
        {
          "output_type": "stream",
          "name": "stdout",
          "text": [
            "Medidas de precisão, revocação, medida F e acurácia: \n",
            "\n",
            "              precision    recall  f1-score   support\n",
            "\n",
            "     class_0       0.89      1.00      0.94         8\n",
            "     class_1       1.00      0.86      0.92         7\n",
            "     class_2       1.00      1.00      1.00         3\n",
            "\n",
            "    accuracy                           0.94        18\n",
            "   macro avg       0.96      0.95      0.95        18\n",
            "weighted avg       0.95      0.94      0.94        18\n",
            "\n",
            "\n",
            "Avaliação do modelo gerado usando dados de teste do 6º fold\n"
          ]
        },
        {
          "output_type": "display_data",
          "data": {
            "text/plain": [
              "<Figure size 432x288 with 2 Axes>"
            ],
            "image/png": "[encoded data removed]"
          },
          "metadata": {
            "needs_background": "light"
          }
        },
        {
          "output_type": "stream",
          "name": "stdout",
          "text": [
            "Medidas de precisão, revocação, medida F e acurácia: \n",
            "\n",
            "              precision    recall  f1-score   support\n",
            "\n",
            "     class_0       1.00      0.78      0.88         9\n",
            "     class_1       0.75      1.00      0.86         3\n",
            "     class_2       0.86      1.00      0.92         6\n",
            "\n",
            "    accuracy                           0.89        18\n",
            "   macro avg       0.87      0.93      0.89        18\n",
            "weighted avg       0.91      0.89      0.89        18\n",
            "\n",
            "\n",
            "Avaliação do modelo gerado usando dados de teste do 7º fold\n"
          ]
        },
        {
          "output_type": "display_data",
          "data": {
            "text/plain": [
              "<Figure size 432x288 with 2 Axes>"
            ],
            "image/png": "[encoded data removed]"
          },
          "metadata": {
            "needs_background": "light"
          }
        },
        {
          "output_type": "stream",
          "name": "stdout",
          "text": [
            "Medidas de precisão, revocação, medida F e acurácia: \n",
            "\n",
            "              precision    recall  f1-score   support\n",
            "\n",
            "     class_0       1.00      0.80      0.89         5\n",
            "     class_1       0.90      0.90      0.90        10\n",
            "     class_2       0.75      1.00      0.86         3\n",
            "\n",
            "    accuracy                           0.89        18\n",
            "   macro avg       0.88      0.90      0.88        18\n",
            "weighted avg       0.90      0.89      0.89        18\n",
            "\n",
            "\n",
            "Avaliação do modelo gerado usando dados de teste do 8º fold\n"
          ]
        },
        {
          "output_type": "display_data",
          "data": {
            "text/plain": [
              "<Figure size 432x288 with 2 Axes>"
            ],
            "image/png": "[encoded data removed]"
          },
          "metadata": {
            "needs_background": "light"
          }
        },
        {
          "output_type": "stream",
          "name": "stdout",
          "text": [
            "Medidas de precisão, revocação, medida F e acurácia: \n",
            "\n",
            "              precision    recall  f1-score   support\n",
            "\n",
            "     class_0       0.83      1.00      0.91         5\n",
            "     class_1       1.00      0.71      0.83         7\n",
            "     class_2       0.86      1.00      0.92         6\n",
            "\n",
            "    accuracy                           0.89        18\n",
            "   macro avg       0.90      0.90      0.89        18\n",
            "weighted avg       0.91      0.89      0.88        18\n",
            "\n",
            "\n",
            "Avaliação do modelo gerado usando dados de teste do 9º fold\n"
          ]
        },
        {
          "output_type": "display_data",
          "data": {
            "text/plain": [
              "<Figure size 432x288 with 2 Axes>"
            ],
            "image/png": "[encoded data removed]"
          },
          "metadata": {
            "needs_background": "light"
          }
        },
        {
          "output_type": "stream",
          "name": "stdout",
          "text": [
            "Medidas de precisão, revocação, medida F e acurácia: \n",
            "\n",
            "              precision    recall  f1-score   support\n",
            "\n",
            "     class_0       1.00      1.00      1.00         5\n",
            "     class_1       1.00      1.00      1.00         7\n",
            "     class_2       1.00      1.00      1.00         5\n",
            "\n",
            "    accuracy                           1.00        17\n",
            "   macro avg       1.00      1.00      1.00        17\n",
            "weighted avg       1.00      1.00      1.00        17\n",
            "\n",
            "\n",
            "Avaliação do modelo gerado usando dados de teste do 10º fold\n"
          ]
        },
        {
          "output_type": "display_data",
          "data": {
            "text/plain": [
              "<Figure size 432x288 with 2 Axes>"
            ],
            "image/png": "[encoded data removed]"
          },
          "metadata": {
            "needs_background": "light"
          }
        },
        {
          "output_type": "stream",
          "name": "stdout",
          "text": [
            "Medidas de precisão, revocação, medida F e acurácia: \n",
            "\n",
            "              precision    recall  f1-score   support\n",
            "\n",
            "     class_0       1.00      1.00      1.00         5\n",
            "     class_1       1.00      1.00      1.00         7\n",
            "     class_2       1.00      1.00      1.00         5\n",
            "\n",
            "    accuracy                           1.00        17\n",
            "   macro avg       1.00      1.00      1.00        17\n",
            "weighted avg       1.00      1.00      1.00        17\n",
            "\n",
            "\n"
          ]
        }
      ]
    },
    {
      "cell_type": "code",
      "source": [
        "#9. Pesos conectando todas as camadas da rede do 10º fold\n",
        "#1ª camada -> Camada de input\n",
        "#2ª camada -> Única camada escondida\n",
        "#3ª camada -> Camada de output\n",
        "for i in range(len(mlp.coefs_)):\n",
        "  print(f\"Pesos entre {i+1}ª e {i+2}ª camadas:\")\n",
        "  print(mlp.coefs_[i])\n"
      ],
      "metadata": {
        "id": "DKiA2VYPnf3U",
        "colab": {
          "base_uri": "https://localhost:8080/"
        },
        "outputId": "2b24e8d9-c3dc-4b5e-b1be-26da02ec3293"
      },
      "execution_count": 168,
      "outputs": [
        {
          "output_type": "stream",
          "name": "stdout",
          "text": [
            "Pesos entre 1ª e 2ª camadas:\n",
            "[[-2.02012853e-02  5.36421074e-02 -1.21706480e-01 ...  1.04554501e-01\n",
            "  -9.11488938e+00  1.25869708e-01]\n",
            " [-7.97745597e-02 -8.83460705e-02  1.05323435e-01 ...  1.09066703e-01\n",
            "   1.85828300e-01 -1.17136686e-01]\n",
            " [-7.88358390e-02 -4.08872555e-02 -8.98407013e-02 ...  2.96559986e-02\n",
            "   1.79313364e+00  3.84025991e-02]\n",
            " ...\n",
            " [-7.48528665e-02  6.15795319e-02 -1.19952387e-01 ...  1.19773189e-01\n",
            "  -3.18618355e-01  1.20338105e-01]\n",
            " [ 4.57857194e-03 -7.97896199e-02 -1.03577878e-01 ...  2.40597882e-02\n",
            "   2.44251620e+00  1.14023498e-02]\n",
            " [ 4.88549922e-02  1.04827812e-01  8.82857984e-02 ... -5.39920769e-02\n",
            "  -2.00994964e+00  1.62978154e-01]]\n",
            "Pesos entre 2ª e 3ª camadas:\n",
            "[[ 8.44450375e-02  9.17262655e-03 -2.47981558e-01]\n",
            " [ 6.47614449e-02 -2.29445225e-02 -4.81478756e-02]\n",
            " [ 2.80611159e-01 -7.85269025e-02 -2.71666901e-01]\n",
            " [ 7.64222655e-02  7.77242301e-02  9.36008676e-02]\n",
            " [ 4.27327282e-02  7.95806135e-02  9.99288907e-02]\n",
            " [-1.17278048e-02  1.46883939e-02  1.55738801e-03]\n",
            " [ 2.37816843e-01  8.96935774e-03 -1.46399041e-01]\n",
            " [ 8.32679288e-02  1.91930967e-03  8.22344498e-02]\n",
            " [-7.41611311e+00 -1.13436306e+01  1.87420163e+01]\n",
            " [ 6.14558475e-02 -6.10160950e-02  2.06348541e-02]\n",
            " [ 1.15642649e-01 -1.06494066e-01 -1.05787834e-01]\n",
            " [ 7.93626595e-01 -6.59385804e-01 -1.06601032e-01]\n",
            " [ 1.73116476e-02  4.22139868e-02 -9.96204758e-02]\n",
            " [-1.40399006e-02  6.26071736e-02 -1.45311936e-01]\n",
            " [ 1.89297087e+00 -2.27509217e+00  2.88253461e-01]\n",
            " [-6.66824162e-01  6.41950644e-01  1.60811991e-01]\n",
            " [ 3.06303843e-01  2.08848557e-02 -1.75303114e-01]\n",
            " [ 1.37270394e-01 -2.83964467e-02 -1.47953049e-01]\n",
            " [ 2.68977150e-02  2.40988874e-02  9.61798159e-02]\n",
            " [ 1.31645529e-01  2.06886946e-02 -3.50302939e-02]\n",
            " [ 6.34428959e-02 -4.59021870e-02 -1.10468315e-01]\n",
            " [ 2.76259035e-01 -1.17825795e-01 -6.10898050e-02]\n",
            " [ 6.83729885e-02  2.92625237e-02 -1.52413180e-01]\n",
            " [-1.05316496e-01  1.22285098e-01  2.78145781e-02]\n",
            " [ 1.68127952e-01 -1.21515647e-01 -1.13481884e-01]\n",
            " [ 7.14359137e-02 -8.53439758e-02 -1.96397599e-01]\n",
            " [ 2.16342067e-01  8.21628213e-04 -6.36564338e-02]\n",
            " [ 2.97661615e-01  3.26697853e-03 -1.31701762e-01]\n",
            " [ 1.35844696e-01 -7.71263034e-02 -5.37887040e-02]\n",
            " [ 2.89407704e-01 -8.54967268e-02 -1.39242004e-01]\n",
            " [ 4.62472438e-02 -6.69402029e-02 -8.43992877e-02]\n",
            " [ 1.91205275e-01  3.66444371e-02 -1.02682050e-01]\n",
            " [ 9.38012955e-02  6.15179418e-02 -1.55458152e-01]\n",
            " [ 1.13461799e-01  1.35728699e-02 -1.05465843e-01]\n",
            " [-2.64481816e+01  1.65844502e+01  9.93044241e+00]\n",
            " [ 2.28340130e-01 -5.88351405e-02 -1.05471570e-01]\n",
            " [ 2.27253506e-01 -1.35402848e-02 -2.19770949e-01]\n",
            " [-1.85883477e-02 -6.39830277e-02  8.77907829e-02]\n",
            " [ 3.03716212e-01 -1.57001710e-01 -7.88481843e-02]\n",
            " [ 1.45897484e-01 -5.62916335e-03 -2.12997250e-01]\n",
            " [ 3.54852709e-01 -6.30421550e-01  2.29078234e-01]\n",
            " [ 2.93643692e-01  7.49091696e-02 -1.22715762e-01]\n",
            " [-7.25289697e-02  1.11618220e-01  6.36185218e-02]\n",
            " [ 6.37606770e-02 -7.31563451e-02  8.38133406e-02]\n",
            " [ 1.23031109e-01 -4.05799736e-03 -9.80283290e-02]\n",
            " [ 2.50618991e-01 -6.53656329e-02 -8.55598774e-02]\n",
            " [ 2.96567809e-01 -2.66951973e-02 -2.49357069e-01]\n",
            " [ 9.48061014e-02 -1.37763029e-01 -2.34688208e-01]\n",
            " [ 9.41588787e-02  3.32007044e-02 -2.68554557e-01]\n",
            " [ 1.23402797e-01  5.87964803e-02 -3.12789047e-02]\n",
            " [ 2.15828974e-01  8.34794221e-02 -2.67528336e-01]\n",
            " [ 1.13943385e-01 -4.79330995e-02  7.59429146e-02]\n",
            " [ 7.89039111e-02  9.14444157e-02 -1.05286436e-02]\n",
            " [ 1.09389386e-01 -6.14983922e-02  1.10354916e-01]\n",
            " [ 3.02579663e-02  1.23309445e-01 -1.18714655e-01]\n",
            " [ 2.46245703e-01 -2.08397669e-02 -1.53483366e-01]\n",
            " [-6.11617921e-02 -4.39872881e-02 -6.36399324e-02]\n",
            " [ 1.17740713e-01  3.86264142e-02 -1.50950611e-01]\n",
            " [ 8.31750914e-02  3.28662436e-02 -1.43011661e-01]\n",
            " [ 5.79724161e-02  8.62133768e-03 -2.72909414e-02]\n",
            " [ 1.23513130e-01 -1.19832630e-01  1.09927771e-01]\n",
            " [ 1.09442464e-01 -2.77063134e-02 -7.25310784e-02]\n",
            " [ 3.02817583e-02 -8.17992965e-02  7.70189016e-02]\n",
            " [ 1.26546323e-01 -9.06294249e-02 -4.59108465e-02]\n",
            " [ 2.91396614e-01 -2.85042387e-02 -5.93930293e-02]\n",
            " [-3.74586829e-02  1.26469208e-01 -1.68436854e-02]\n",
            " [-1.86605443e+01  1.24336804e+01  6.18268920e+00]\n",
            " [-8.91900742e-03  5.95877045e-02  3.57670033e-02]\n",
            " [ 5.66686817e-02 -1.14023783e-01  1.06697103e-01]\n",
            " [ 2.97473715e-01 -2.42839857e-02 -3.37181868e-02]\n",
            " [ 1.33410188e-01 -1.15448142e-02 -1.77858824e-01]\n",
            " [ 3.25194919e-02 -5.06415886e-02  8.11209172e-02]\n",
            " [ 6.56669502e+00 -6.58894487e+00 -3.17858690e-01]\n",
            " [-8.87890703e-02 -2.65823119e-02  1.15675053e-01]\n",
            " [-9.88755624e-02  3.75292308e-02  6.97985689e-03]\n",
            " [ 1.51772011e-01 -1.14152809e-01 -2.22531782e-01]\n",
            " [ 7.31750006e-02  1.66550638e-02 -1.12481524e-01]\n",
            " [-1.92647221e-01  2.97777693e-01 -1.62871431e-01]\n",
            " [ 3.00490873e-01  5.08103817e-02 -1.11161808e-01]\n",
            " [ 1.58271896e-01 -5.86845691e-02 -1.56092114e-01]\n",
            " [ 2.82529686e-01  5.67821605e-02 -1.41994200e-01]\n",
            " [-5.01513918e-01  5.05745068e-01  2.19093953e-01]\n",
            " [ 2.24405160e-01  2.56360447e-02 -1.89248215e-01]\n",
            " [ 2.25865965e-01  8.91039858e-02 -1.10022845e-01]\n",
            " [ 2.82463990e-01  5.06836396e-02 -7.25527727e-02]\n",
            " [ 9.52414664e-02 -2.83462805e-02 -4.97547486e-02]\n",
            " [ 2.57847164e-01 -5.76391574e-02 -3.01650730e-02]\n",
            " [-6.33069233e-02 -4.22652065e-02  1.15372950e-01]\n",
            " [ 7.84177919e-02  1.01691670e-01 -1.24062720e-01]\n",
            " [-3.05414283e-02 -6.71809299e-02 -5.18352027e-02]\n",
            " [ 1.72768089e+01 -2.02232796e+00 -1.51468098e+01]\n",
            " [-3.42245607e-02  2.15323541e-02  8.54514259e-03]\n",
            " [ 2.01898265e-01 -8.15870466e-03 -1.78065697e-01]\n",
            " [ 2.58070483e-01 -1.00689102e-01 -1.11993674e-01]\n",
            " [ 1.16946969e-01 -1.26103623e-01  5.67366287e-02]\n",
            " [ 8.97299400e-02 -2.63688084e-02 -1.19320623e-01]\n",
            " [ 1.23755547e-01  6.76304199e-02 -1.20489970e-01]\n",
            " [ 1.20897280e-01  3.11257456e-02 -2.51765407e-01]\n",
            " [ 1.40279632e-02 -1.02886529e-01  2.05710283e-02]\n",
            " [-6.27463268e-02  3.79665511e-02  5.48229078e-02]\n",
            " [ 6.14346679e-03  4.00125262e-02  7.95807909e-02]\n",
            " [ 7.86847011e-02  1.21188907e+00 -1.19448139e+00]\n",
            " [-2.33819233e-02  9.51908645e-02  5.15473508e-02]\n",
            " [-8.00306935e-02  1.66968861e-02  1.03842623e-01]\n",
            " [-8.87294358e-02  8.77663494e-02  8.13354559e-02]\n",
            " [ 1.88883017e-01 -1.54951245e-01 -2.41098011e-01]\n",
            " [ 2.28746727e-01 -1.07954938e-01 -1.61613686e-01]\n",
            " [ 3.02376453e-02 -7.69792149e-02  1.22200636e-01]\n",
            " [ 9.04662236e+00 -3.75839234e+00 -5.33556139e+00]\n",
            " [ 1.29197993e-01 -6.18036010e-02 -1.46568428e-01]]\n"
          ]
        }
      ]
    },
    {
      "cell_type": "markdown",
      "source": [
        "#**Etapa 11**\n",
        " Nesta etapa o algoritmo faz a leitura do valor na posição `[i][j]` da tabela gerada por `classification_report`, em todas as 10 tabelas geradas, e armazena esses valores em um vetor, para calcular a média e o desvio padrão dessa posição `[i][j]`. O resultado dos calculos é armazenado em suas respectivas tabelas, que seguem o modelo gerado por `classification_report`. \n",
        "  Isso é feito para todas as posições `[i][j]` da tabela gerada por `classification_report`."
      ],
      "metadata": {
        "id": "1bgP2Dz4pIBH"
      }
    },
    {
      "cell_type": "code",
      "source": [
        "#11.\n",
        "\n",
        "#Cria um dataFrame no mesmo formato dos resultados de classification_report, para armazenar média e desvio padrão\n",
        "media = crs[0].copy()\n",
        "desvioPadrao = crs[0].copy()\n",
        "\n",
        "for i in range(media.shape[0]):\n",
        "  for j in range(media.shape[1]):\n",
        "    valores = []\n",
        "    for k in range(len(crs)):\n",
        "      valores.append(crs[k].iloc[i][j]) #Aloca os valores da coordenada [i][j], de todas as tabelas classification_report\n",
        "    media.iloc[i][j] = np.mean(valores) #Calculo da média \n",
        "    desvioPadrao.iloc[i][j] = np.std(valores) #Caculo do desvio padrão\n",
        "\n",
        "#Impressão dos resultados com valores aproximados em 2 casa decimais\n",
        "print(\"Média\\n\")\n",
        "print(media.round(2),\"\\n\")\n",
        "print(\"Desvio Padrão\\n\")\n",
        "print(desvioPadrao.round(2))"
      ],
      "metadata": {
        "colab": {
          "base_uri": "https://localhost:8080/"
        },
        "id": "8PhQ40RupMbm",
        "outputId": "8f99be81-7f4b-4c44-9659-9b4c8a9457fa"
      },
      "execution_count": 169,
      "outputs": [
        {
          "output_type": "stream",
          "name": "stdout",
          "text": [
            "Média\n",
            "\n",
            "              precision  recall  f1-score  support\n",
            "class_0            0.90    0.92      0.90      5.8\n",
            "class_1            0.93    0.90      0.91      7.4\n",
            "class_2            0.95    0.98      0.96      4.6\n",
            "accuracy           0.92    0.92      0.92     17.8\n",
            "macro avg          0.93    0.93      0.92     17.8\n",
            "weighted avg       0.93    0.92      0.92     17.8 \n",
            "\n",
            "Desvio Padrão\n",
            "\n",
            "              precision  recall  f1-score  support\n",
            "class_0            0.10    0.10      0.07     1.60\n",
            "class_1            0.08    0.10      0.05     2.11\n",
            "class_2            0.09    0.08      0.06     1.20\n",
            "accuracy           0.04    0.04      0.04     0.40\n",
            "macro avg          0.05    0.04      0.05     0.40\n",
            "weighted avg       0.04    0.04      0.04     0.40\n"
          ]
        }
      ]
    }
  ]
}