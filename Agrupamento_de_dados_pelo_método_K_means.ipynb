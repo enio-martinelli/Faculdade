{
  "nbformat": 4,
  "nbformat_minor": 0,
  "metadata": {
    "colab": {
      "name": "Agrupamento de dados pelo método K-means.ipynb",
      "provenance": [],
      "authorship_tag": "ABX9TyPDmUoN5T1XKc2HkhGIRDLk",
      "include_colab_link": true
    },
    "kernelspec": {
      "name": "python3",
      "display_name": "Python 3"
    },
    "language_info": {
      "name": "python"
    }
  },
  "cells": [
    {
      "cell_type": "markdown",
      "metadata": {
        "id": "view-in-github",
        "colab_type": "text"
      },
      "source": [
        "<a href=\"https://colab.research.google.com/github/enio-martinelli/Faculdade/blob/main/Agrupamento_de_dados_pelo_m%C3%A9todo_K_means.ipynb\" target=\"_parent\"><img src=\"https://colab.research.google.com/assets/colab-badge.svg\" alt=\"Open In Colab\"/></a>"
      ]
    },
    {
      "cell_type": "markdown",
      "source": [
        "#**ALUNO:** Enio Martinelli **RA:** 790891"
      ],
      "metadata": {
        "id": "pVZQE6EATWkF"
      }
    },
    {
      "cell_type": "markdown",
      "source": [
        "O conjunto de dados escolhido foi [Wine Data Set](https://archive.ics.uci.edu/ml/machine-learning-databases/wine/), disponível no repositório UCI e no pacote `sklearn.datasets`. Esse conjunto possui o atributo classe, que foi removido."
      ],
      "metadata": {
        "id": "feuJWTrlUtMT"
      }
    },
    {
      "cell_type": "code",
      "metadata": {
        "id": "wRJLorsbr0QS"
      },
      "source": [
        "from sklearn.datasets import load_wine\n",
        "import pandas as pd\n",
        "\n",
        "wine = load_wine()\n",
        "\n",
        "df = pd.DataFrame(wine.data, columns=wine.feature_names)\n",
        "df['class'] = wine.target\n",
        "X = df.drop('class', axis=1)  #Novo conjunto de dados sem o atributo classe\n"
      ],
      "execution_count": 9,
      "outputs": []
    },
    {
      "cell_type": "markdown",
      "source": [
        "Normalização dos atributos contínuos, no caso do Wine Data Set, todos seus atributos são contínuos, portanto todos serão normalizados."
      ],
      "metadata": {
        "id": "iOz3fekHdvmq"
      }
    },
    {
      "cell_type": "code",
      "source": [
        "from sklearn.preprocessing import MinMaxScaler\n",
        "\n",
        "mms = MinMaxScaler()\n",
        "mms.fit(df)\n",
        "data_transformed = mms.transform(df)\n"
      ],
      "metadata": {
        "id": "OUAiUTFSeDWm"
      },
      "execution_count": 10,
      "outputs": []
    },
    {
      "cell_type": "markdown",
      "source": [
        "Aplicação do algoritmo k-means no conjunto de dados (sem a classe), usando a classe `KMeans` e a função `fit()` (módulo `sklearn.cluster`). O número de grupos foi definido num intervalo de 3 a 20, e o algoritmo é aplicado para cada valor do intervalo.\n",
        "\n",
        "Armazenamento do valor do índice soma quadrática das distâncias para todos os agrupamentos encontrados usando o atributo `inertia_` da classe `KMeans`"
      ],
      "metadata": {
        "id": "BBI5X1oletuv"
      }
    },
    {
      "cell_type": "code",
      "source": [
        "from sklearn.cluster import KMeans\n",
        "\n",
        "SomaQuadradoDistancia = [] #lista que vai armazenar o valor do índice soma quadrática das distâncias para todos os agrupamentos encontrados\n",
        "K = range(1,10)\n",
        "for k in K: #aplicação do algoritmo KMeans para todos os valores de grupos\n",
        "  km = KMeans(n_clusters=k) \n",
        "  km = km.fit(data_transformed)\n",
        "  SomaQuadradoDistancia.append(km.inertia_)\n"
      ],
      "metadata": {
        "id": "B6cnKlBYfT3Q"
      },
      "execution_count": 23,
      "outputs": []
    },
    {
      "cell_type": "markdown",
      "source": [
        "Gráfico dos índices encontrados para cada número de grupos"
      ],
      "metadata": {
        "id": "jhJdzBoIiNq7"
      }
    },
    {
      "cell_type": "code",
      "source": [
        "import matplotlib.pyplot as plt\n",
        "\n",
        "plt.plot(K, SomaQuadradoDistancia, 'bx-')\n",
        "plt.xlabel('k = Número de grupos')\n",
        "plt.ylabel('Soma dos quadrados das distâncias')\n",
        "plt.title('Método do Cotovelo para encontrar melhor valor de k')\n",
        "plt.show()"
      ],
      "metadata": {
        "colab": {
          "base_uri": "https://localhost:8080/",
          "height": 296
        },
        "id": "gOIbQR7WhVfs",
        "outputId": "5ce6850d-f278-4ba3-d493-736b1d168839"
      },
      "execution_count": 25,
      "outputs": [
        {
          "output_type": "display_data",
          "data": {
            "text/plain": [
              "<Figure size 432x288 with 1 Axes>"
            ],
            "image/png": "[encoded data removed]"
          },
          "metadata": {
            "needs_background": "light"
          }
        }
      ]
    },
    {
      "cell_type": "markdown",
      "source": [
        "Pelo método do cotovelo, o melhor número de grupos seria entre 3 ou 4, cabendo a um especialista avaliar os resultados de cada caso, na etapa de interpretação, e decidir qual quantidade é melhor."
      ],
      "metadata": {
        "id": "D7g4hW-5iejw"
      }
    }
  ]
}