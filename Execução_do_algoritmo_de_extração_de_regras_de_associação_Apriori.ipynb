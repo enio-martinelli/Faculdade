{
  "nbformat": 4,
  "nbformat_minor": 0,
  "metadata": {
    "colab": {
      "name": "Execução do algoritmo de extração de regras de associação Apriori.ipynb",
      "provenance": [],
      "authorship_tag": "ABX9TyMON4Lh6thpd5k3h2WbEKHh",
      "include_colab_link": true
    },
    "kernelspec": {
      "name": "python3",
      "display_name": "Python 3"
    },
    "language_info": {
      "name": "python"
    }
  },
  "cells": [
    {
      "cell_type": "markdown",
      "metadata": {
        "id": "view-in-github",
        "colab_type": "text"
      },
      "source": [
        "<a href=\"https://colab.research.google.com/github/enio-martinelli/Faculdade/blob/main/Execu%C3%A7%C3%A3o_do_algoritmo_de_extra%C3%A7%C3%A3o_de_regras_de_associa%C3%A7%C3%A3o_Apriori.ipynb\" target=\"_parent\"><img src=\"https://colab.research.google.com/assets/colab-badge.svg\" alt=\"Open In Colab\"/></a>"
      ]
    },
    {
      "cell_type": "markdown",
      "source": [
        "#**ALUNO:** Enio Martinelli **RA:** 790891"
      ],
      "metadata": {
        "id": "kY3Bd6xmeFY6"
      }
    },
    {
      "cell_type": "markdown",
      "source": [
        "Instalação da biblioteca [Efficient-Apriori](https://github.com/tommyod/Efficient-Apriori), e importação do algoritmo Apriore.\n",
        "\n"
      ],
      "metadata": {
        "id": "OfZOmTTAdbZC"
      }
    },
    {
      "cell_type": "code",
      "execution_count": null,
      "metadata": {
        "colab": {
          "base_uri": "https://localhost:8080/"
        },
        "id": "0ZkWSEbG_To3",
        "outputId": "745cf38a-8759-4118-a986-a3031e564a5f"
      },
      "outputs": [
        {
          "output_type": "stream",
          "name": "stdout",
          "text": [
            "Requirement already satisfied: efficient-apriori in /usr/local/lib/python3.7/dist-packages (2.0.1)\n"
          ]
        }
      ],
      "source": [
        "#Instalar o pacote efficient-apriori\n",
        "!pip install efficient-apriori"
      ]
    },
    {
      "cell_type": "code",
      "source": [
        "from efficient_apriori import apriori"
      ],
      "metadata": {
        "id": "GI9aYjcyJ4jr"
      },
      "execution_count": 130,
      "outputs": []
    },
    {
      "cell_type": "markdown",
      "source": [
        "O conjunto de dados selecionado foi [Mushroom Data Set](https://archive.ics.uci.edu/ml/datasets/Mushroom), disponível no repositório UCI. \n",
        "Este conjunto possui 22 atributos, todos categóricos, e alguns valores ausentes, representados por  \"?\".\n",
        "\n",
        "Obs.: Foi utilizada a versão [\"expanded\"](https://archive.ics.uci.edu/ml/machine-learning-databases/mushroom/expanded.Z) do conjunto de dados, onde os valores dos atributos estão com seus nomes completos. Na versão original, os velores estão com os nomes abreviados."
      ],
      "metadata": {
        "id": "_bKm8WFMeVzY"
      }
    },
    {
      "cell_type": "code",
      "source": [
        "import pandas as pd\n",
        "df = pd.read_csv('expanded',header=None)"
      ],
      "metadata": {
        "id": "g49Ay5mrGb_5"
      },
      "execution_count": 132,
      "outputs": []
    },
    {
      "cell_type": "code",
      "source": [
        "#Remoção do atributo classe, 1º atributo do conjunto de dados\n",
        "mushroomDF = df.drop(0,axis=1) #parâmetro '0' indica que será retirado o 1º atributo"
      ],
      "metadata": {
        "id": "cOaWzwCvHEw4"
      },
      "execution_count": 133,
      "outputs": []
    },
    {
      "cell_type": "code",
      "source": [
        "#Transformar os dados para listas de listas\n",
        "t_list = []\n",
        "for i in range(mushroomDF.shape[0]):\n",
        "  l_in = []\n",
        "  for j in range(mushroomDF.shape[1]):\n",
        "    s = str(df.values[i,j])\n",
        "    if s != '?': #Deixando os valores ausentes de fora da lista\n",
        "      l_in.append(s)\n",
        "  t_list.append(l_in)\n"
      ],
      "metadata": {
        "id": "jR5DSCbzI-CT"
      },
      "execution_count": 134,
      "outputs": []
    },
    {
      "cell_type": "markdown",
      "source": [
        "Aplicação da função que extrai itemsets frequentes e regras de associação, com Suporte e Confinça mínimas de 90%.\n"
      ],
      "metadata": {
        "id": "H49wtR2dgk6k"
      }
    },
    {
      "cell_type": "code",
      "source": [
        "itemsets, rules = apriori(t_list, min_support=0.9, min_confidence = 0.9)"
      ],
      "metadata": {
        "id": "IAkWFW-IJqw0"
      },
      "execution_count": 135,
      "outputs": []
    },
    {
      "cell_type": "markdown",
      "source": [
        "Apresentação de todas as regras obtdos, com seus respectivos valores de suporte, confiança, lift e convicção."
      ],
      "metadata": {
        "id": "2mDtFGSqg_bK"
      }
    },
    {
      "cell_type": "code",
      "source": [
        "for i in range(len(rules)):\n",
        "  print(rules[i])"
      ],
      "metadata": {
        "colab": {
          "base_uri": "https://localhost:8080/"
        },
        "id": "CUvx4OgMJ83Z",
        "outputId": "9258a686-c7bf-451f-b0ed-a3792d924da7"
      },
      "execution_count": 136,
      "outputs": [
        {
          "output_type": "stream",
          "name": "stdout",
          "text": [
            "{ONE} -> {FREE} (conf: 0.975, supp: 0.900, lift: 1.001, conv: 1.038)\n",
            "{FREE} -> {ONE} (conf: 0.924, supp: 0.900, lift: 1.001, conv: 1.012)\n",
            "{PARTIAL} -> {FREE} (conf: 0.974, supp: 0.974, lift: 1.000, conv: 1.000)\n",
            "{FREE} -> {PARTIAL} (conf: 1.000, supp: 0.974, lift: 1.000, conv: 0.000)\n",
            "{WHITE} -> {FREE} (conf: 0.997, supp: 0.974, lift: 1.023, conv: 8.795)\n",
            "{FREE} -> {WHITE} (conf: 1.000, supp: 0.974, lift: 1.023, conv: 22813688.213)\n",
            "{PARTIAL} -> {ONE} (conf: 0.923, supp: 0.923, lift: 1.000, conv: 1.000)\n",
            "{ONE} -> {PARTIAL} (conf: 1.000, supp: 0.923, lift: 1.000, conv: 0.000)\n",
            "{WHITE} -> {ONE} (conf: 0.921, supp: 0.900, lift: 0.998, conv: 0.977)\n",
            "{ONE} -> {WHITE} (conf: 0.975, supp: 0.900, lift: 0.998, conv: 0.923)\n",
            "{WHITE} -> {PARTIAL} (conf: 1.000, supp: 0.977, lift: 1.000, conv: 0.000)\n",
            "{PARTIAL} -> {WHITE} (conf: 0.977, supp: 0.977, lift: 1.000, conv: 1.000)\n",
            "{ONE, PARTIAL} -> {FREE} (conf: 0.975, supp: 0.900, lift: 1.001, conv: 1.038)\n",
            "{FREE, PARTIAL} -> {ONE} (conf: 0.924, supp: 0.900, lift: 1.001, conv: 1.012)\n",
            "{FREE, ONE} -> {PARTIAL} (conf: 1.000, supp: 0.900, lift: 1.000, conv: 0.000)\n",
            "{PARTIAL} -> {FREE, ONE} (conf: 0.900, supp: 0.900, lift: 1.000, conv: 1.000)\n",
            "{ONE} -> {FREE, PARTIAL} (conf: 0.975, supp: 0.900, lift: 1.001, conv: 1.038)\n",
            "{FREE} -> {ONE, PARTIAL} (conf: 0.924, supp: 0.900, lift: 1.001, conv: 1.012)\n",
            "{ONE, WHITE} -> {FREE} (conf: 1.000, supp: 0.900, lift: 1.026, conv: 25665399.240)\n",
            "{FREE, WHITE} -> {ONE} (conf: 0.924, supp: 0.900, lift: 1.001, conv: 1.012)\n",
            "{FREE, ONE} -> {WHITE} (conf: 1.000, supp: 0.900, lift: 1.023, conv: 22813688.213)\n",
            "{WHITE} -> {FREE, ONE} (conf: 0.921, supp: 0.900, lift: 1.023, conv: 1.267)\n",
            "{ONE} -> {FREE, WHITE} (conf: 0.975, supp: 0.900, lift: 1.001, conv: 1.038)\n",
            "{FREE} -> {ONE, WHITE} (conf: 0.924, supp: 0.900, lift: 1.026, conv: 1.312)\n",
            "{PARTIAL, WHITE} -> {FREE} (conf: 0.997, supp: 0.974, lift: 1.023, conv: 8.795)\n",
            "{FREE, WHITE} -> {PARTIAL} (conf: 1.000, supp: 0.974, lift: 1.000, conv: 0.000)\n",
            "{FREE, PARTIAL} -> {WHITE} (conf: 1.000, supp: 0.974, lift: 1.023, conv: 22813688.213)\n",
            "{WHITE} -> {FREE, PARTIAL} (conf: 0.997, supp: 0.974, lift: 1.023, conv: 8.795)\n",
            "{PARTIAL} -> {FREE, WHITE} (conf: 0.974, supp: 0.974, lift: 1.000, conv: 1.000)\n",
            "{FREE} -> {PARTIAL, WHITE} (conf: 1.000, supp: 0.974, lift: 1.023, conv: 22813688.213)\n",
            "{PARTIAL, WHITE} -> {ONE} (conf: 0.921, supp: 0.900, lift: 0.998, conv: 0.977)\n",
            "{ONE, WHITE} -> {PARTIAL} (conf: 1.000, supp: 0.900, lift: 1.000, conv: 0.000)\n",
            "{ONE, PARTIAL} -> {WHITE} (conf: 0.975, supp: 0.900, lift: 0.998, conv: 0.923)\n",
            "{WHITE} -> {ONE, PARTIAL} (conf: 0.921, supp: 0.900, lift: 0.998, conv: 0.977)\n",
            "{PARTIAL} -> {ONE, WHITE} (conf: 0.900, supp: 0.900, lift: 1.000, conv: 1.000)\n",
            "{ONE} -> {PARTIAL, WHITE} (conf: 0.975, supp: 0.900, lift: 0.998, conv: 0.923)\n",
            "{ONE, PARTIAL, WHITE} -> {FREE} (conf: 1.000, supp: 0.900, lift: 1.026, conv: 25665399.240)\n",
            "{FREE, PARTIAL, WHITE} -> {ONE} (conf: 0.924, supp: 0.900, lift: 1.001, conv: 1.012)\n",
            "{FREE, ONE, WHITE} -> {PARTIAL} (conf: 1.000, supp: 0.900, lift: 1.000, conv: 0.000)\n",
            "{FREE, ONE, PARTIAL} -> {WHITE} (conf: 1.000, supp: 0.900, lift: 1.023, conv: 22813688.213)\n",
            "{PARTIAL, WHITE} -> {FREE, ONE} (conf: 0.921, supp: 0.900, lift: 1.023, conv: 1.267)\n",
            "{ONE, WHITE} -> {FREE, PARTIAL} (conf: 1.000, supp: 0.900, lift: 1.026, conv: 25665399.240)\n",
            "{ONE, PARTIAL} -> {FREE, WHITE} (conf: 0.975, supp: 0.900, lift: 1.001, conv: 1.038)\n",
            "{FREE, WHITE} -> {ONE, PARTIAL} (conf: 0.924, supp: 0.900, lift: 1.001, conv: 1.012)\n",
            "{FREE, PARTIAL} -> {ONE, WHITE} (conf: 0.924, supp: 0.900, lift: 1.026, conv: 1.312)\n",
            "{FREE, ONE} -> {PARTIAL, WHITE} (conf: 1.000, supp: 0.900, lift: 1.023, conv: 22813688.213)\n",
            "{WHITE} -> {FREE, ONE, PARTIAL} (conf: 0.921, supp: 0.900, lift: 1.023, conv: 1.267)\n",
            "{PARTIAL} -> {FREE, ONE, WHITE} (conf: 0.900, supp: 0.900, lift: 1.000, conv: 1.000)\n",
            "{ONE} -> {FREE, PARTIAL, WHITE} (conf: 0.975, supp: 0.900, lift: 1.001, conv: 1.038)\n",
            "{FREE} -> {ONE, PARTIAL, WHITE} (conf: 0.924, supp: 0.900, lift: 1.026, conv: 1.312)\n"
          ]
        }
      ]
    }
  ]
}